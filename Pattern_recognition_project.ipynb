{
 "cells": [
  {
   "cell_type": "markdown",
   "metadata": {},
   "source": [
    "First check that you have pytorch installed, instructions are here: https://pytorch.org/get-started/locally/ , prefferably do it with anaconda if you can, I think that will lead to less problems down the road if we use other libraries.\n",
    "\n",
    "If cuda toolkit isnt available and you have an nvidia gpu try to get that too (it might be contained within anaconda pytorch package): https://docs.nvidia.com/cuda/cuda-installation-guide-microsoft-windows/index.html\n",
    "\n",
    "Also note that because the dataset is large I added it to the .gitignore, you should download it from here : https://www.kaggle.com/c/cassava-leaf-disease-classification/data, and extract it into the data/ folder of the project\n",
    "\n",
    "*also make sure to run pip install tfrecord for reading tfrecord files*"
   ]
  },
  {
   "cell_type": "code",
   "execution_count": null,
   "metadata": {},
   "outputs": [],
   "source": [
    "import pickle\n",
    "import torch\n",
    "\n",
    "from torch import FloatTensor, LongTensor\n",
    "from torch.nn.utils.rnn import pad_sequence\n",
    "from torch.utils.data import Dataset, DataLoader\n",
    "from matplotlib import pyplot as plt\n",
    "\n",
    "if not torch.cuda.is_available():\n",
    "    print(\"if you have an nvidia gpu get the cuda core package\")\n",
    "else:\n",
    "    print(\"cuda is available\")"
   ]
  },
  {
   "cell_type": "markdown",
   "metadata": {},
   "source": [
    "Converting .tfrec tensorflow files to pytorch readable format\n",
    "\n",
    "jupyter notebook --NotebookApp.iopub_data_rate_limit=1.0e10"
   ]
  },
  {
   "cell_type": "code",
   "execution_count": null,
   "metadata": {},
   "outputs": [],
   "source": [
    "import os\n",
    "from os import path\n",
    "from tfrecord.torch.dataset import TFRecordDataset\n",
    "from tfrecord.torch.dataset import MultiTFRecordDataset\n",
    "\n",
    "import tensorflow as tf\n",
    "\n",
    "\n",
    "for example in tf.python_io.tf_record_iterator(\"./data/train_tfrecords/ld_train00-1338.tfrec\"):\n",
    "    print(tf.train.Example.FromString(example))\n",
    "    break #print 1 example to see how it looks like\n",
    "\n",
    "\n",
    "tfrecord_pattern = \"./data/train_tfrecords/ld_train00-1338.tfrec\"\n",
    "index_pattern = \"./data/train_tfrecords/ld_train00-1338.index\"\n",
    "splits = {\n",
    "    \"dataset1\": 0.8,\n",
    "    \"dataset2\": 0.2,\n",
    "}\n",
    "description = {\"image\": \"byte\", \"image_name\": \"byte\", \"target\": \"int\"}\n",
    "#dataset = MultiTFRecordDataset(tfrecord_pattern, index_pattern,splits, description)\n",
    "\n",
    "dataset = TFRecordDataset(tfrecord_pattern, index_pattern, description)\n",
    "\n",
    "loader = torch.utils.data.DataLoader(dataset, batch_size=32)\n",
    "\n",
    "# Trying to fix the below error, and find out whats happening here atm\n",
    "data = next(iter(loader))\n",
    "print(data)"
   ]
  },
  {
   "cell_type": "code",
   "execution_count": null,
   "metadata": {},
   "outputs": [],
   "source": []
  }
 ],
 "metadata": {
  "kernelspec": {
   "display_name": "Python 3",
   "language": "python",
   "name": "python3"
  },
  "language_info": {
   "codemirror_mode": {
    "name": "ipython",
    "version": 3
   },
   "file_extension": ".py",
   "mimetype": "text/x-python",
   "name": "python",
   "nbconvert_exporter": "python",
   "pygments_lexer": "ipython3",
   "version": "3.6.7"
  }
 },
 "nbformat": 4,
 "nbformat_minor": 4
}
